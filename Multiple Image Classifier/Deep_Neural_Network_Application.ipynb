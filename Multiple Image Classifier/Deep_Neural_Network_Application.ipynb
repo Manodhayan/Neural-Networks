{
 "cells": [
  {
   "cell_type": "markdown",
   "metadata": {},
   "source": [
    "# Deep Neural Network for Image Classification: Application\n",
    "\n",
    "Let's get started!"
   ]
  },
  {
   "cell_type": "markdown",
   "metadata": {},
   "source": [
    "## Packages"
   ]
  },
  {
   "cell_type": "markdown",
   "metadata": {},
   "source": [
    "Let's first import all the packages that you will need during this assignment. "
   ]
  },
  {
   "cell_type": "code",
   "execution_count": 52,
   "metadata": {},
   "outputs": [
    {
     "name": "stdout",
     "output_type": "stream",
     "text": [
      "The autoreload extension is already loaded. To reload it, use:\n",
      "  %reload_ext autoreload\n"
     ]
    }
   ],
   "source": [
    "import time\n",
    "import numpy as np\n",
    "import h5py\n",
    "import matplotlib.pyplot as plt\n",
    "import scipy\n",
    "from PIL import Image\n",
    "from scipy import ndimage\n",
    "import skimage.transform\n",
    "from dnn_app_utils_v2 import *\n",
    "\n",
    "%matplotlib inline\n",
    "plt.rcParams['figure.figsize'] = (5.0, 4.0) # set default size of plots\n",
    "plt.rcParams['image.interpolation'] = 'nearest'\n",
    "plt.rcParams['image.cmap'] = 'gray'\n",
    "\n",
    "%load_ext autoreload\n",
    "%autoreload 2\n",
    "\n",
    "np.random.seed(1)"
   ]
  },
  {
   "cell_type": "markdown",
   "metadata": {},
   "source": [
    "## Dataset\n",
    "\n",
    "Let's get more familiar with the dataset. Load the data by running the cell below."
   ]
  },
  {
   "cell_type": "code",
   "execution_count": 3,
   "metadata": {},
   "outputs": [
    {
     "name": "stdout",
     "output_type": "stream",
     "text": [
      "Index: 0\n",
      "Index: 490\n",
      "Index: 980\n",
      "['Banana', 'Dates', 'Guava']\n",
      "Index: 0\n",
      "Index: 166\n",
      "Index: 332\n",
      "['Banana', 'Dates', 'Guava']\n"
     ]
    }
   ],
   "source": [
    "import os\n",
    "path='C:/Users/FORGE/Documents/Manodhayan_Junks/Python Masterclass/Nueral Networks/Multiple Image Classifier/'\n",
    "data_path='data/'\n",
    "os.chdir(path)\n",
    "\n",
    "\n",
    "#Read Data\n",
    "def read_data(folder):\n",
    "    '''Read all the images from the specified folder'''\n",
    "\n",
    "    index=0\n",
    "    trainX_list=[];trainY1_list=[];trainY2_list=[];trainY3_list=[];classes=[]\n",
    "    #train_x=numpy.zeros((img_shape,size))\n",
    "    os.chdir(path+data_path+folder)\n",
    "    for fruit in os.listdir():\n",
    "        os.chdir(path+data_path+folder+'/'+fruit)\n",
    "        classes.append(fruit)\n",
    "        print(\"Index: {}\".format(index))\n",
    "        for image in os.listdir():\n",
    "            trainX_list.append(np.asarray(plt.imread(str(image))))\n",
    "            trainY1_list.append(1 if fruit=='Guava' else 0)\n",
    "            trainY2_list.append(1 if fruit=='Dates' else 0)\n",
    "            trainY3_list.append(1 if fruit=='Banana' else 0)\n",
    "            index+=1\n",
    "            \n",
    "    '''Format the image data into an numpy array'''\n",
    "    train_x=np.asarray(trainX_list)\n",
    "    train_y=np.asarray([trainY1_list,trainY2_list,trainY3_list])\n",
    "    #train_y=np.asarray([trainY1_list])\n",
    "    #train_y=train_y.reshape(1,train_y.shape[0])\n",
    "    os.chdir(path)\n",
    "    #classes.reverse()\n",
    "    print(classes)\n",
    "    return train_x,train_y,classes\n",
    "\n",
    "train_x_orig,train_y,classes=read_data('train')\n",
    "test_x_orig,test_y,test_classes=read_data('test')"
   ]
  },
  {
   "cell_type": "code",
   "execution_count": 4,
   "metadata": {},
   "outputs": [
    {
     "name": "stdout",
     "output_type": "stream",
     "text": [
      "(1470, 100, 100, 3) (3, 1470) ['Banana', 'Dates', 'Guava']\n",
      "[[0 0 0 ... 1 1 1]\n",
      " [0 0 0 ... 0 0 0]\n",
      " [1 1 1 ... 0 0 0]] (3, 1470)\n"
     ]
    }
   ],
   "source": [
    "print(train_x_orig.shape,train_y.shape,classes)\n",
    "print(train_y,train_y.shape)"
   ]
  },
  {
   "cell_type": "markdown",
   "metadata": {},
   "source": [
    "The following code will show you an image in the dataset."
   ]
  },
  {
   "cell_type": "code",
   "execution_count": 5,
   "metadata": {},
   "outputs": [
    {
     "name": "stdout",
     "output_type": "stream",
     "text": [
      "y = 1. It's a Dates picture.\n"
     ]
    },
    {
     "data": {
      "image/png": "[encoded data removed]",
      "text/plain": [
       "<Figure size 360x288 with 1 Axes>"
      ]
     },
     "metadata": {
      "needs_background": "light"
     },
     "output_type": "display_data"
    }
   ],
   "source": [
    "# Example of a picture\n",
    "index = 500\n",
    "plt.imshow(train_x_orig[index])\n",
    "print (\"y = \" + str(train_y[1,index]) + \". It's a \" + classes[train_y[1,index]] +  \" picture.\")"
   ]
  },
  {
   "cell_type": "code",
   "execution_count": 6,
   "metadata": {},
   "outputs": [
    {
     "name": "stdout",
     "output_type": "stream",
     "text": [
      "Number of training examples: 1470\n",
      "Number of testing examples: 498\n",
      "Each image is of size: (100, 100, 3)\n",
      "train_x_orig shape: (1470, 100, 100, 3)\n",
      "train_y shape: (3, 1470)\n",
      "test_x_orig shape: (498, 100, 100, 3)\n",
      "test_y shape: (3, 498)\n"
     ]
    }
   ],
   "source": [
    "# Explore your dataset \n",
    "m_train = train_x_orig.shape[0]\n",
    "num_px = train_x_orig.shape[1]\n",
    "m_test = test_x_orig.shape[0]\n",
    "\n",
    "print (\"Number of training examples: \" + str(m_train))\n",
    "print (\"Number of testing examples: \" + str(m_test))\n",
    "print (\"Each image is of size: (\" + str(num_px) + \", \" + str(num_px) + \", 3)\")\n",
    "print (\"train_x_orig shape: \" + str(train_x_orig.shape))\n",
    "print (\"train_y shape: \" + str(train_y.shape))\n",
    "print (\"test_x_orig shape: \" + str(test_x_orig.shape))\n",
    "print (\"test_y shape: \" + str(test_y.shape))"
   ]
  },
  {
   "cell_type": "code",
   "execution_count": 7,
   "metadata": {},
   "outputs": [
    {
     "name": "stdout",
     "output_type": "stream",
     "text": [
      "train_x's shape: (30000, 1470)\n",
      "test_x's shape: (30000, 498)\n"
     ]
    }
   ],
   "source": [
    "# Reshape the training and test examples \n",
    "train_x_flatten = train_x_orig.reshape(train_x_orig.shape[0], -1).T   # The \"-1\" makes reshape flatten the remaining dimensions\n",
    "test_x_flatten = test_x_orig.reshape(test_x_orig.shape[0], -1).T\n",
    "\n",
    "# Standardize data to have feature values between 0 and 1.\n",
    "train_x = train_x_flatten/255.\n",
    "test_x = test_x_flatten/255.\n",
    "\n",
    "print (\"train_x's shape: \" + str(train_x.shape))\n",
    "print (\"test_x's shape: \" + str(test_x.shape))\n"
   ]
  },
  {
   "cell_type": "markdown",
   "metadata": {},
   "source": [
    "$30,000$ equals $100 \\times 100 \\times 3$ which is the size of one reshaped image vector."
   ]
  },
  {
   "cell_type": "markdown",
   "metadata": {},
   "source": [
    "##  L-layer Neural Network\n",
    "\n",
    "\n",
    "```python\n",
    "def initialize_parameters_deep(layer_dims):\n",
    "    ...\n",
    "    return parameters \n",
    "def L_model_forward(X, parameters):\n",
    "    ...\n",
    "    return AL, caches\n",
    "def compute_cost(AL, Y):\n",
    "    ...\n",
    "    return cost\n",
    "def L_model_backward(AL, Y, caches):\n",
    "    ...\n",
    "    return grads\n",
    "def update_parameters(parameters, grads, learning_rate):\n",
    "    ...\n",
    "    return parameters\n",
    "```"
   ]
  },
  {
   "cell_type": "code",
   "execution_count": 8,
   "metadata": {},
   "outputs": [
    {
     "data": {
      "text/plain": [
       "[30000, 20, 7, 5, 3]"
      ]
     },
     "execution_count": 8,
     "metadata": {},
     "output_type": "execute_result"
    }
   ],
   "source": [
    "### CONSTANTS ###\n",
    "layers_dims = [train_x.shape[0], 20, 7, 5, train_y.shape[0]] #  5-layer model\n",
    "layers_dims"
   ]
  },
  {
   "cell_type": "code",
   "execution_count": 10,
   "metadata": {},
   "outputs": [],
   "source": [
    "# GRADED FUNCTION: L_layer_model\n",
    "\n",
    "def L_layer_model(X, Y, layers_dims, learning_rate = 0.0075, num_iterations = 3000, print_cost=False):#lr was 0.009\n",
    "    \"\"\"\n",
    "    Implements a L-layer neural network: [LINEAR->RELU]*(L-1)->LINEAR->SIGMOID.\n",
    "    \n",
    "    Arguments:\n",
    "    X -- data, numpy array of shape (number of examples, num_px * num_px * 3)\n",
    "    Y -- true \"label\" vector (containing 0 if cat, 1 if non-cat), of shape (1, number of examples)\n",
    "    layers_dims -- list containing the input size and each layer size, of length (number of layers + 1).\n",
    "    learning_rate -- learning rate of the gradient descent update rule\n",
    "    num_iterations -- number of iterations of the optimization loop\n",
    "    print_cost -- if True, it prints the cost every 100 steps\n",
    "    \n",
    "    Returns:\n",
    "    parameters -- parameters learnt by the model. They can then be used to predict.\n",
    "    \"\"\"\n",
    "\n",
    "    np.random.seed(1)\n",
    "    costs = []                         # keep track of cost\n",
    "    \n",
    "    # Parameters initialization.\n",
    "    ### START CODE HERE ###\n",
    "    parameters = initialize_parameters_deep(layers_dims)\n",
    "    ### END CODE HERE ###\n",
    "    \n",
    "    # Loop (gradient descent)\n",
    "    for i in range(0, num_iterations):\n",
    "\n",
    "        # Forward propagation: [LINEAR -> RELU]*(L-1) -> LINEAR -> SIGMOID.\n",
    "        ### START CODE HERE ### (≈ 1 line of code)\n",
    "        AL, caches = L_model_forward(X, parameters)\n",
    "        ### END CODE HERE ###\n",
    "        \n",
    "        # Compute cost.\n",
    "        ### START CODE HERE ### (≈ 1 line of code)\n",
    "        cost = compute_cost(AL, Y)\n",
    "        ### END CODE HERE ###\n",
    "    \n",
    "        # Backward propagation.\n",
    "        ### START CODE HERE ### (≈ 1 line of code)\n",
    "        grads = L_model_backward(AL, Y, caches)\n",
    "        ### END CODE HERE ###\n",
    " \n",
    "        # Update parameters.\n",
    "        ### START CODE HERE ### (≈ 1 line of code)\n",
    "        parameters = update_parameters(parameters, grads, learning_rate=learning_rate)\n",
    "        ### END CODE HERE ###\n",
    "                \n",
    "        # Print the cost every 100 training example\n",
    "        if print_cost and i % 100 == 0:\n",
    "            #print (\"Cost after iteration %i: %f\" %(i, cost))\n",
    "            print(\"Cost after iteration {} : {}\".format(i,cost))\n",
    "#         if print_cost and i % 100 == 0:\n",
    "#             costs.append(cost)\n",
    "            \n",
    "#     # plot the cost\n",
    "#     plt.plot(np.squeeze(costs))\n",
    "#     plt.ylabel('cost')\n",
    "#     plt.xlabel('iterations (per tens)')\n",
    "#     plt.title(\"Learning rate =\" + str(learning_rate))\n",
    "#     plt.show()\n",
    "    \n",
    "    return parameters"
   ]
  },
  {
   "cell_type": "markdown",
   "metadata": {},
   "source": [
    "You will now train the model as a 5-layer neural network. \n",
    "\n",
    "Run the cell below to train your model. The cost should decrease on every iteration. It may take up to 5 minutes to run 2500 iterations. Check if the \"Cost after iteration 0\" matches the expected output below, if not click on the square (⬛) on the upper bar of the notebook to stop the cell and try to find your error."
   ]
  },
  {
   "cell_type": "code",
   "execution_count": 11,
   "metadata": {
    "scrolled": false
   },
   "outputs": [
    {
     "name": "stdout",
     "output_type": "stream",
     "text": [
      "Cost after iteration 0 : [[0.73208988 0.73376425 0.65059887]\n",
      " [0.73420583 0.72794286 0.67294062]\n",
      " [0.71811324 0.71203546 0.68021278]]\n",
      "Cost after iteration 100 : [[0.60017397 1.1191536  1.22111438]\n",
      " [0.78418832 0.28573539 2.95227397]\n",
      " [0.5678006  1.66660833 0.30144755]]\n",
      "Cost after iteration 200 : [[0.20991336 2.24229477 2.25544612]\n",
      " [1.29592719 0.04903933 5.98475923]\n",
      " [1.12005839 4.19642723 0.06809741]]\n",
      "Cost after iteration 300 : [[0.04046078 3.06546729 3.23114578]\n",
      " [2.81961006 0.0150457  7.6356273 ]\n",
      " [2.31830857 5.75432303 0.02196942]]\n",
      "Cost after iteration 400 : [[1.51486944e-02 3.67438692e+00 3.89847537e+00]\n",
      " [3.77222729e+00 6.49278630e-03 8.57630212e+00]\n",
      " [3.01527543e+00 6.63122375e+00 8.48947547e-03]]\n",
      "Cost after iteration 500 : [[7.84240713e-03 4.10061565e+00 4.34385483e+00]\n",
      " [4.39814399e+00 3.62021473e-03 9.18550330e+00]\n",
      " [3.48607528e+00 7.19993335e+00 4.42933590e-03]]\n",
      "Cost after iteration 600 : [[4.87861222e-03 4.42733994e+00 4.67676951e+00]\n",
      " [4.85122115e+00 2.35704337e-03 9.64958457e+00]\n",
      " [3.83087972e+00 7.62995557e+00 2.80166849e-03]]\n",
      "Cost after iteration 700 : [[3.38826022e-03 4.67964092e+00 4.92543776e+00]\n",
      " [5.19986592e+00 1.68012940e-03 9.99259119e+00]\n",
      " [4.09891642e+00 7.94717268e+00 1.98370644e-03]]\n",
      "Cost after iteration 800 : [[2.53242411e-03 4.88206005e+00 5.12790206e+00]\n",
      " [5.48141005e+00 1.27239740e-03 1.02659130e+01]\n",
      " [4.31135466e+00 8.19914588e+00 1.50468605e-03]]\n",
      "Cost after iteration 900 : [[1.98768190e-03 5.04997556e+00 5.29867388e+00]\n",
      " [5.71688256e+00 1.01275618e-03 1.04912661e+01]\n",
      " [4.48758413e+00 8.40772858e+00 1.19162457e-03]]\n",
      "Cost after iteration 1000 : [[1.61389750e-03 5.19388289e+00 5.44185187e+00]\n",
      " [5.91942040e+00 8.32864825e-04 1.06792540e+01]\n",
      " [4.63915516e+00 8.58245935e+00 9.78614051e-04]]\n",
      "Cost after iteration 1100 : [[1.34295488e-03 5.32111919e+00 5.56185858e+00]\n",
      " [6.09817336e+00 6.99929707e-04 1.08382071e+01]\n",
      " [4.77324409e+00 8.73078760e+00 8.28791417e-04]]\n",
      "Cost after iteration 1200 : [[1.14173701e-03 5.43283034e+00 5.66984254e+00]\n",
      " [6.25613881e+00 6.01101828e-04 1.09780395e+01]\n",
      " [4.89161368e+00 8.86142599e+00 7.13678591e-04]]\n",
      "Cost after iteration 1300 : [[9.86371723e-04 5.53350374e+00 5.76460472e+00]\n",
      " [6.39819053e+00 5.23500892e-04 1.11008173e+01]\n",
      " [4.99824919e+00 8.97634942e+00 6.25747286e-04]]\n",
      "Cost after iteration 1400 : [[8.63870835e-04 5.62420668e+00 5.84973932e+00]\n",
      " [6.52690590e+00 4.62385731e-04 1.12096120e+01]\n",
      " [5.09466463e+00 9.07852505e+00 5.54955230e-04]]\n",
      "Cost after iteration 1500 : [[7.65772783e-04 5.70637853e+00 5.92828244e+00]\n",
      " [6.64404961e+00 4.13014715e-04 1.13082389e+01]\n",
      " [5.18214560e+00 9.17118963e+00 4.96759930e-04]]\n",
      "Cost after iteration 1600 : [[6.85806597e-04 5.78112690e+00 6.00092453e+00]\n",
      " [6.75122575e+00 3.72659434e-04 1.13977473e+01]\n",
      " [5.26184711e+00 9.25553608e+00 4.47914108e-04]]\n",
      "Cost after iteration 1700 : [[6.19462208e-04 5.85021761e+00 6.06890054e+00]\n",
      " [6.85020742e+00 3.38916582e-04 1.14807467e+01]\n",
      " [5.33539270e+00 9.33379947e+00 4.06763103e-04]]\n",
      "Cost after iteration 1800 : [[5.63357412e-04 5.91487058e+00 6.13159835e+00]\n",
      " [6.94251318e+00 3.10044614e-04 1.15574220e+01]\n",
      " [5.40420216e+00 9.40614381e+00 3.72267450e-04]]\n",
      "Cost after iteration 1900 : [[5.15609941e-04 5.97524509e+00 6.19022978e+00]\n",
      " [7.02867554e+00 2.85228673e-04 1.16286958e+01]\n",
      " [5.46865600e+00 9.47335528e+00 3.42699380e-04]]\n",
      "Cost after iteration 2000 : [[4.74634787e-04 6.03167814e+00 6.24518543e+00]\n",
      " [7.10930529e+00 2.63717196e-04 1.16949772e+01]\n",
      " [5.52894007e+00 9.53587618e+00 3.17047627e-04]]\n",
      "Cost after iteration 2100 : [[4.39119017e-04 6.08454668e+00 6.29697745e+00]\n",
      " [7.18505101e+00 2.45042872e-04 1.17568520e+01]\n",
      " [5.58541990e+00 9.59434346e+00 2.94492246e-04]]\n",
      "Cost after iteration 2200 : [[4.08079862e-04 6.13453425e+00 6.34621278e+00]\n",
      " [7.25660843e+00 2.28498355e-04 1.18154336e+01]\n",
      " [5.63894371e+00 9.64953889e+00 2.74744475e-04]]\n",
      "Cost after iteration 2300 : [[3.80768047e-04 6.18177797e+00 6.39275566e+00]\n",
      " [7.32424956e+00 2.13853626e-04 1.18705035e+01]\n",
      " [5.68960905e+00 9.70143487e+00 2.57226923e-04]]\n",
      "Cost after iteration 2400 : [[3.56517702e-04 6.22663649e+00 6.43689881e+00]\n",
      " [7.38854318e+00 2.00804736e-04 1.19225441e+01]\n",
      " [5.73754863e+00 9.75057402e+00 2.41633527e-04]]\n"
     ]
    }
   ],
   "source": [
    "parameters = L_layer_model(train_x, train_y, layers_dims, num_iterations = 2500, print_cost = True)"
   ]
  },
  {
   "cell_type": "code",
   "execution_count": 48,
   "metadata": {
    "scrolled": true
   },
   "outputs": [
    {
     "name": "stdout",
     "output_type": "stream",
     "text": [
      "Accuracy: 0.9999999999999999\n"
     ]
    }
   ],
   "source": [
    "pred_train = predict(train_x, train_y, parameters,3)"
   ]
  },
  {
   "cell_type": "code",
   "execution_count": 45,
   "metadata": {},
   "outputs": [
    {
     "name": "stdout",
     "output_type": "stream",
     "text": [
      "Predicted: [0.0, 0.0, 1.0]\n",
      "Actual: [0, 0, 1]\n"
     ]
    }
   ],
   "source": [
    "print(\"Predicted: {}\".format([pred_train[0,1],pred_train[1,1],pred_train[2,1]]))\n",
    "print(\"Actual: {}\".format([train_y[0,1],train_y[1,1],train_y[2,1]]))"
   ]
  },
  {
   "cell_type": "code",
   "execution_count": 49,
   "metadata": {},
   "outputs": [
    {
     "name": "stdout",
     "output_type": "stream",
     "text": [
      "Accuracy: 1.0\n"
     ]
    }
   ],
   "source": [
    "pred_test = predict(test_x, test_y, parameters,3)\n"
   ]
  },
  {
   "cell_type": "code",
   "execution_count": 46,
   "metadata": {},
   "outputs": [
    {
     "name": "stdout",
     "output_type": "stream",
     "text": [
      "Predicted: [0.0, 0.0, 1.0]\n",
      "Actual: [0, 0, 1]\n"
     ]
    }
   ],
   "source": [
    "print(\"Predicted: {}\".format([pred_test[0,1],pred_test[1,1],pred_test[2,1]]))\n",
    "print(\"Actual: {}\".format([test_y[0,1],test_y[1,1],test_y[2,1]]))"
   ]
  },
  {
   "cell_type": "code",
   "execution_count": 41,
   "metadata": {},
   "outputs": [
    {
     "data": {
      "text/plain": [
       "['Banana', 'Dates', 'Guava']"
      ]
     },
     "execution_count": 41,
     "metadata": {},
     "output_type": "execute_result"
    }
   ],
   "source": [
    "classes"
   ]
  },
  {
   "cell_type": "code",
   "execution_count": null,
   "metadata": {},
   "outputs": [],
   "source": []
  },
  {
   "cell_type": "markdown",
   "metadata": {},
   "source": [
    "##  6) Results Analysis\n",
    "\n",
    "First, let's take a look at some images the L-layer model labeled incorrectly. This will show a few mislabeled images. "
   ]
  },
  {
   "cell_type": "code",
   "execution_count": 14,
   "metadata": {
    "scrolled": false
   },
   "outputs": [],
   "source": [
    "print_mislabeled_images(classes, test_x, test_y, pred_test)"
   ]
  },
  {
   "cell_type": "markdown",
   "metadata": {},
   "source": [
    "## 7-Test with your own image\n"
   ]
  },
  {
   "cell_type": "code",
   "execution_count": 53,
   "metadata": {
    "scrolled": false
   },
   "outputs": [
    {
     "name": "stdout",
     "output_type": "stream",
     "text": [
      "Accuracy: 0.0\n",
      "[[0.]\n",
      " [0.]\n",
      " [1.]]\n"
     ]
    },
    {
     "name": "stderr",
     "output_type": "stream",
     "text": [
      "C:\\Users\\FORGE\\Anaconda3\\lib\\site-packages\\skimage\\transform\\_warps.py:105: UserWarning: The default mode, 'constant', will be changed to 'reflect' in skimage 0.15.\n",
      "  warn(\"The default mode, 'constant', will be changed to 'reflect' in \"\n",
      "C:\\Users\\FORGE\\Anaconda3\\lib\\site-packages\\skimage\\transform\\_warps.py:110: UserWarning: Anti-aliasing will be enabled by default in skimage 0.15 to avoid aliasing artifacts when down-sampling images.\n",
      "  warn(\"Anti-aliasing will be enabled by default in skimage 0.15 to \"\n"
     ]
    }
   ],
   "source": [
    "os.chdir(path)\n",
    "my_image = \"my_image.jpg\"\n",
    "my_label_y = None \n",
    "\n",
    "num_px=100\n",
    "fname = \"images/\" + my_image\n",
    "image = np.array(plt.imread(fname))\n",
    "my_image = skimage.transform.resize(image, output_shape=(num_px,num_px)).reshape((num_px*num_px*3,1))\n",
    "my_predicted_image = predict(my_image, my_label_y, parameters,3)\n",
    "print(my_predicted_image)\n",
    "# plt.imshow(image)\n",
    "# print(\"y = \" + str(np.squeeze(my_predicted_image))+\", your L-layer model predicts a \\\"\"+classes[int(np.squeeze(my_predicted_image))]+\"\\\" picture.\")\n",
    "# print (\"y = \" + str(np.squeeze(my_predicted_image)) + \", your L-layer model predicts a \\\"\" + classes[int(np.squeeze(my_predicted_image)),] +  \"\\\" picture.\")"
   ]
  },
  {
   "cell_type": "markdown",
   "metadata": {},
   "source": [
    "**References**:\n",
    "\n",
    "- for auto-reloading external module: http://stackoverflow.com/questions/1907993/autoreload-of-modules-in-ipython"
   ]
  },
  {
   "cell_type": "code",
   "execution_count": 18,
   "metadata": {},
   "outputs": [
    {
     "data": {
      "application/json": {
       "Software versions": [
        {
         "module": "Python",
         "version": "3.6.6 64bit [GCC 4.2.1 Compatible Apple LLVM 6.1.0 (clang-602.0.53)]"
        },
        {
         "module": "IPython",
         "version": "7.0.1"
        },
        {
         "module": "OS",
         "version": "Darwin 17.7.0 x86_64 i386 64bit"
        },
        {
         "module": "numpy",
         "version": "1.15.1"
        },
        {
         "module": "PIL",
         "version": "5.3.0"
        },
        {
         "module": "matplotlib",
         "version": "3.0.0"
        },
        {
         "module": "scipy",
         "version": "1.1.0"
        },
        {
         "module": "skimage",
         "version": "0.14.1"
        }
       ]
      },
      "text/html": [
       "<table><tr><th>Software</th><th>Version</th></tr><tr><td>Python</td><td>3.6.6 64bit [GCC 4.2.1 Compatible Apple LLVM 6.1.0 (clang-602.0.53)]</td></tr><tr><td>IPython</td><td>7.0.1</td></tr><tr><td>OS</td><td>Darwin 17.7.0 x86_64 i386 64bit</td></tr><tr><td>numpy</td><td>1.15.1</td></tr><tr><td>PIL</td><td>5.3.0</td></tr><tr><td>matplotlib</td><td>3.0.0</td></tr><tr><td>scipy</td><td>1.1.0</td></tr><tr><td>skimage</td><td>0.14.1</td></tr><tr><td colspan='2'>Sun Oct 14 21:16:14 2018 MDT</td></tr></table>"
      ],
      "text/latex": [
       "\\begin{tabular}{|l|l|}\\hline\n",
       "{\\bf Software} & {\\bf Version} \\\\ \\hline\\hline\n",
       "Python & 3.6.6 64bit [GCC 4.2.1 Compatible Apple LLVM 6.1.0 (clang-602.0.53)] \\\\ \\hline\n",
       "IPython & 7.0.1 \\\\ \\hline\n",
       "OS & Darwin 17.7.0 x86\\_64 i386 64bit \\\\ \\hline\n",
       "numpy & 1.15.1 \\\\ \\hline\n",
       "PIL & 5.3.0 \\\\ \\hline\n",
       "matplotlib & 3.0.0 \\\\ \\hline\n",
       "scipy & 1.1.0 \\\\ \\hline\n",
       "skimage & 0.14.1 \\\\ \\hline\n",
       "\\hline \\multicolumn{2}{|l|}{Sun Oct 14 21:16:14 2018 MDT} \\\\ \\hline\n",
       "\\end{tabular}\n"
      ],
      "text/plain": [
       "Software versions\n",
       "Python 3.6.6 64bit [GCC 4.2.1 Compatible Apple LLVM 6.1.0 (clang-602.0.53)]\n",
       "IPython 7.0.1\n",
       "OS Darwin 17.7.0 x86_64 i386 64bit\n",
       "numpy 1.15.1\n",
       "PIL 5.3.0\n",
       "matplotlib 3.0.0\n",
       "scipy 1.1.0\n",
       "skimage 0.14.1\n",
       "Sun Oct 14 21:16:14 2018 MDT"
      ]
     },
     "execution_count": 18,
     "metadata": {},
     "output_type": "execute_result"
    }
   ],
   "source": [
    "%load_ext version_information\n",
    "%version_information numpy, PIL, matplotlib, scipy, skimage"
   ]
  }
 ],
 "metadata": {
  "coursera": {
   "course_slug": "neural-networks-deep-learning",
   "graded_item_id": "TSPse",
   "launcher_item_id": "24mxX"
  },
  "kernelspec": {
   "display_name": "Python 3",
   "language": "python",
   "name": "python3"
  },
  "language_info": {
   "codemirror_mode": {
    "name": "ipython",
    "version": 3
   },
   "file_extension": ".py",
   "mimetype": "text/x-python",
   "name": "python",
   "nbconvert_exporter": "python",
   "pygments_lexer": "ipython3",
   "version": "3.7.0"
  }
 },
 "nbformat": 4,
 "nbformat_minor": 2
}
